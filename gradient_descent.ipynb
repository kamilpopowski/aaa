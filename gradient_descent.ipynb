{
  "nbformat": 4,
  "nbformat_minor": 0,
  "metadata": {
    "colab": {
      "name": "gradient_descent.ipynb",
      "provenance": [],
      "collapsed_sections": [],
      "include_colab_link": true
    },
    "kernelspec": {
      "name": "python3",
      "display_name": "Python 3"
    }
  },
  "cells": [
    {
      "cell_type": "markdown",
      "metadata": {
        "id": "view-in-github",
        "colab_type": "text"
      },
      "source": [
        "<a href=\"https://colab.research.google.com/github/kamilpopowski/aaa/blob/master/gradient_descent.ipynb\" target=\"_parent\"><img src=\"https://colab.research.google.com/assets/colab-badge.svg\" alt=\"Open In Colab\"/></a>"
      ]
    },
    {
      "cell_type": "markdown",
      "metadata": {
        "id": "RWhqDJ3IRP-n",
        "colab_type": "text"
      },
      "source": [
        "###Algorytm stochastycznego gradientu\n",
        "### $L(w) = w^2 - 4w$\n",
        "### $ \\frac{dL}{dw} = 2w -4$"
      ]
    },
    {
      "cell_type": "code",
      "metadata": {
        "id": "vasLVoLhPRU0",
        "colab_type": "code",
        "colab": {}
      },
      "source": [
        "import numpy as np\n",
        "import matplotlib.pyplot as plt\n",
        "import seaborn as sns\n",
        "sns.set()"
      ],
      "execution_count": 0,
      "outputs": []
    },
    {
      "cell_type": "code",
      "metadata": {
        "id": "b_VNMLCBQ81S",
        "colab_type": "code",
        "colab": {
          "base_uri": "https://localhost:8080/",
          "height": 301
        },
        "outputId": "45fa919a-9ac8-44ed-a62f-5b9dad4ac5a5"
      },
      "source": [
        "w = np.arange(-10, 14, 0.1) #wygenerowanie danych od -10 do 14, zwiekszajace sie o 0.1\n",
        "Loss = w**2 -4*w #funkcja straty\n",
        "point = -5\n",
        "\n",
        "plt.plot(w, Loss) #wykreslenie wykresu funkcji kwadratowej o parametrach w nawiasie\n",
        "plt.plot(point, point**2 - 4*point, 'ro') #postawienie punktu na wykres, ro = czerwony\n",
        "plt.title('Loss function')"
      ],
      "execution_count": 9,
      "outputs": [
        {
          "output_type": "execute_result",
          "data": {
            "text/plain": [
              "Text(0.5, 1.0, 'Loss function')"
            ]
          },
          "metadata": {
            "tags": []
          },
          "execution_count": 9
        },
        {
          "output_type": "display_data",
          "data": {
            "image/png": "[encoded data removed]",
            "text/plain": [
              "<Figure size 432x288 with 1 Axes>"
            ]
          },
          "metadata": {
            "tags": []
          }
        }
      ]
    },
    {
      "cell_type": "code",
      "metadata": {
        "id": "3eMdoDS2VZPU",
        "colab_type": "code",
        "colab": {
          "base_uri": "https://localhost:8080/",
          "height": 1000
        },
        "outputId": "ac2631de-a3d5-437a-8d92-136d2c157fb4"
      },
      "source": [
        "Loss"
      ],
      "execution_count": 7,
      "outputs": [
        {
          "output_type": "execute_result",
          "data": {
            "text/plain": [
              "array([ 1.40000000e+02,  1.37610000e+02,  1.35240000e+02,  1.32890000e+02,\n",
              "        1.30560000e+02,  1.28250000e+02,  1.25960000e+02,  1.23690000e+02,\n",
              "        1.21440000e+02,  1.19210000e+02,  1.17000000e+02,  1.14810000e+02,\n",
              "        1.12640000e+02,  1.10490000e+02,  1.08360000e+02,  1.06250000e+02,\n",
              "        1.04160000e+02,  1.02090000e+02,  1.00040000e+02,  9.80100000e+01,\n",
              "        9.60000000e+01,  9.40100000e+01,  9.20400000e+01,  9.00900000e+01,\n",
              "        8.81600000e+01,  8.62500000e+01,  8.43600000e+01,  8.24900000e+01,\n",
              "        8.06400000e+01,  7.88100000e+01,  7.70000000e+01,  7.52100000e+01,\n",
              "        7.34400000e+01,  7.16900000e+01,  6.99600000e+01,  6.82500000e+01,\n",
              "        6.65600000e+01,  6.48900000e+01,  6.32400000e+01,  6.16100000e+01,\n",
              "        6.00000000e+01,  5.84100000e+01,  5.68400000e+01,  5.52900000e+01,\n",
              "        5.37600000e+01,  5.22500000e+01,  5.07600000e+01,  4.92900000e+01,\n",
              "        4.78400000e+01,  4.64100000e+01,  4.50000000e+01,  4.36100000e+01,\n",
              "        4.22400000e+01,  4.08900000e+01,  3.95600000e+01,  3.82500000e+01,\n",
              "        3.69600000e+01,  3.56900000e+01,  3.44400000e+01,  3.32100000e+01,\n",
              "        3.20000000e+01,  3.08100000e+01,  2.96400000e+01,  2.84900000e+01,\n",
              "        2.73600000e+01,  2.62500000e+01,  2.51600000e+01,  2.40900000e+01,\n",
              "        2.30400000e+01,  2.20100000e+01,  2.10000000e+01,  2.00100000e+01,\n",
              "        1.90400000e+01,  1.80900000e+01,  1.71600000e+01,  1.62500000e+01,\n",
              "        1.53600000e+01,  1.44900000e+01,  1.36400000e+01,  1.28100000e+01,\n",
              "        1.20000000e+01,  1.12100000e+01,  1.04400000e+01,  9.69000000e+00,\n",
              "        8.96000000e+00,  8.25000000e+00,  7.56000000e+00,  6.89000000e+00,\n",
              "        6.24000000e+00,  5.61000000e+00,  5.00000000e+00,  4.41000000e+00,\n",
              "        3.84000000e+00,  3.29000000e+00,  2.76000000e+00,  2.25000000e+00,\n",
              "        1.76000000e+00,  1.29000000e+00,  8.40000000e-01,  4.10000000e-01,\n",
              "        1.42108547e-13, -3.90000000e-01, -7.60000000e-01, -1.11000000e+00,\n",
              "       -1.44000000e+00, -1.75000000e+00, -2.04000000e+00, -2.31000000e+00,\n",
              "       -2.56000000e+00, -2.79000000e+00, -3.00000000e+00, -3.19000000e+00,\n",
              "       -3.36000000e+00, -3.51000000e+00, -3.64000000e+00, -3.75000000e+00,\n",
              "       -3.84000000e+00, -3.91000000e+00, -3.96000000e+00, -3.99000000e+00,\n",
              "       -4.00000000e+00, -3.99000000e+00, -3.96000000e+00, -3.91000000e+00,\n",
              "       -3.84000000e+00, -3.75000000e+00, -3.64000000e+00, -3.51000000e+00,\n",
              "       -3.36000000e+00, -3.19000000e+00, -3.00000000e+00, -2.79000000e+00,\n",
              "       -2.56000000e+00, -2.31000000e+00, -2.04000000e+00, -1.75000000e+00,\n",
              "       -1.44000000e+00, -1.11000000e+00, -7.60000000e-01, -3.90000000e-01,\n",
              "       -1.98951966e-13,  4.10000000e-01,  8.40000000e-01,  1.29000000e+00,\n",
              "        1.76000000e+00,  2.25000000e+00,  2.76000000e+00,  3.29000000e+00,\n",
              "        3.84000000e+00,  4.41000000e+00,  5.00000000e+00,  5.61000000e+00,\n",
              "        6.24000000e+00,  6.89000000e+00,  7.56000000e+00,  8.25000000e+00,\n",
              "        8.96000000e+00,  9.69000000e+00,  1.04400000e+01,  1.12100000e+01,\n",
              "        1.20000000e+01,  1.28100000e+01,  1.36400000e+01,  1.44900000e+01,\n",
              "        1.53600000e+01,  1.62500000e+01,  1.71600000e+01,  1.80900000e+01,\n",
              "        1.90400000e+01,  2.00100000e+01,  2.10000000e+01,  2.20100000e+01,\n",
              "        2.30400000e+01,  2.40900000e+01,  2.51600000e+01,  2.62500000e+01,\n",
              "        2.73600000e+01,  2.84900000e+01,  2.96400000e+01,  3.08100000e+01,\n",
              "        3.20000000e+01,  3.32100000e+01,  3.44400000e+01,  3.56900000e+01,\n",
              "        3.69600000e+01,  3.82500000e+01,  3.95600000e+01,  4.08900000e+01,\n",
              "        4.22400000e+01,  4.36100000e+01,  4.50000000e+01,  4.64100000e+01,\n",
              "        4.78400000e+01,  4.92900000e+01,  5.07600000e+01,  5.22500000e+01,\n",
              "        5.37600000e+01,  5.52900000e+01,  5.68400000e+01,  5.84100000e+01,\n",
              "        6.00000000e+01,  6.16100000e+01,  6.32400000e+01,  6.48900000e+01,\n",
              "        6.65600000e+01,  6.82500000e+01,  6.99600000e+01,  7.16900000e+01,\n",
              "        7.34400000e+01,  7.52100000e+01,  7.70000000e+01,  7.88100000e+01,\n",
              "        8.06400000e+01,  8.24900000e+01,  8.43600000e+01,  8.62500000e+01,\n",
              "        8.81600000e+01,  9.00900000e+01,  9.20400000e+01,  9.40100000e+01,\n",
              "        9.60000000e+01,  9.80100000e+01,  1.00040000e+02,  1.02090000e+02,\n",
              "        1.04160000e+02,  1.06250000e+02,  1.08360000e+02,  1.10490000e+02,\n",
              "        1.12640000e+02,  1.14810000e+02,  1.17000000e+02,  1.19210000e+02,\n",
              "        1.21440000e+02,  1.23690000e+02,  1.25960000e+02,  1.28250000e+02,\n",
              "        1.30560000e+02,  1.32890000e+02,  1.35240000e+02,  1.37610000e+02])"
            ]
          },
          "metadata": {
            "tags": []
          },
          "execution_count": 7
        }
      ]
    },
    {
      "cell_type": "code",
      "metadata": {
        "id": "SUUehzMfYK0r",
        "colab_type": "code",
        "colab": {}
      },
      "source": [
        "def gradient_descent(df=lambda w: 2*w-4, learning_rate = 0.01, w_0 = -5, max_iters = 10000, precision = 0.000001): #lambdapozwala na zapis równania, learning rate - dokladnosc uczenia, w_0 - miejsce startu\n",
        "\n",
        "  #licznik iteraji\n",
        "  iters = 0\n",
        "  \n",
        "  previous_step_size = 1 #wartosc kroku kolejnego spadku\n",
        "\n",
        "  weights = [] #wagi, które były aktualizowane \n",
        "  while previous_step_size > precision and iters < max_iters:\n",
        "    w_prev = w_0 #zmienna przechowująca poprzednią wartość parametru w_0 (wartości początkowej)\n",
        "    w_0 = w_0 - learning_rate * df(w_prev)\n",
        "    previous_step_size = abs(w_0 - w_prev) # kolejna wartość kroku interacji; abs = moduł (znak dodatni) \n",
        "    iters += 1\n",
        "    weights.append(w_0)\n",
        "    print('Iter #{}: obecny punkt: {}'.format(iters, w_0))\n",
        "  \n",
        "  print('Minimum globalne: {}' .format(w_0))\n",
        "  return weights\n"
      ],
      "execution_count": 0,
      "outputs": []
    },
    {
      "cell_type": "code",
      "metadata": {
        "id": "SGsrdb6MaO1J",
        "colab_type": "code",
        "colab": {
          "base_uri": "https://localhost:8080/",
          "height": 1000
        },
        "outputId": "689d1eec-d48c-4f5c-ef8b-6378b721e8df"
      },
      "source": [
        "weights = gradient_descent(learning_rate=0.1)"
      ],
      "execution_count": 17,
      "outputs": [
        {
          "output_type": "stream",
          "text": [
            "Iter #1: obecny punkt: -3.5999999999999996\n",
            "Iter #2: obecny punkt: -2.4799999999999995\n",
            "Iter #3: obecny punkt: -1.5839999999999996\n",
            "Iter #4: obecny punkt: -0.8671999999999996\n",
            "Iter #5: obecny punkt: -0.2937599999999997\n",
            "Iter #6: obecny punkt: 0.1649920000000003\n",
            "Iter #7: obecny punkt: 0.5319936000000003\n",
            "Iter #8: obecny punkt: 0.8255948800000003\n",
            "Iter #9: obecny punkt: 1.0604759040000002\n",
            "Iter #10: obecny punkt: 1.2483807232000002\n",
            "Iter #11: obecny punkt: 1.39870457856\n",
            "Iter #12: obecny punkt: 1.518963662848\n",
            "Iter #13: obecny punkt: 1.6151709302784\n",
            "Iter #14: obecny punkt: 1.69213674422272\n",
            "Iter #15: obecny punkt: 1.753709395378176\n",
            "Iter #16: obecny punkt: 1.8029675163025407\n",
            "Iter #17: obecny punkt: 1.8423740130420325\n",
            "Iter #18: obecny punkt: 1.873899210433626\n",
            "Iter #19: obecny punkt: 1.8991193683469008\n",
            "Iter #20: obecny punkt: 1.9192954946775207\n",
            "Iter #21: obecny punkt: 1.9354363957420166\n",
            "Iter #22: obecny punkt: 1.9483491165936133\n",
            "Iter #23: obecny punkt: 1.9586792932748907\n",
            "Iter #24: obecny punkt: 1.9669434346199126\n",
            "Iter #25: obecny punkt: 1.97355474769593\n",
            "Iter #26: obecny punkt: 1.9788437981567442\n",
            "Iter #27: obecny punkt: 1.9830750385253952\n",
            "Iter #28: obecny punkt: 1.9864600308203162\n",
            "Iter #29: obecny punkt: 1.9891680246562529\n",
            "Iter #30: obecny punkt: 1.9913344197250022\n",
            "Iter #31: obecny punkt: 1.9930675357800018\n",
            "Iter #32: obecny punkt: 1.9944540286240016\n",
            "Iter #33: obecny punkt: 1.9955632228992013\n",
            "Iter #34: obecny punkt: 1.9964505783193611\n",
            "Iter #35: obecny punkt: 1.9971604626554889\n",
            "Iter #36: obecny punkt: 1.997728370124391\n",
            "Iter #37: obecny punkt: 1.9981826960995128\n",
            "Iter #38: obecny punkt: 1.9985461568796103\n",
            "Iter #39: obecny punkt: 1.9988369255036882\n",
            "Iter #40: obecny punkt: 1.9990695404029506\n",
            "Iter #41: obecny punkt: 1.9992556323223605\n",
            "Iter #42: obecny punkt: 1.9994045058578884\n",
            "Iter #43: obecny punkt: 1.9995236046863107\n",
            "Iter #44: obecny punkt: 1.9996188837490485\n",
            "Iter #45: obecny punkt: 1.9996951069992388\n",
            "Iter #46: obecny punkt: 1.999756085599391\n",
            "Iter #47: obecny punkt: 1.9998048684795129\n",
            "Iter #48: obecny punkt: 1.9998438947836104\n",
            "Iter #49: obecny punkt: 1.9998751158268884\n",
            "Iter #50: obecny punkt: 1.9999000926615107\n",
            "Iter #51: obecny punkt: 1.9999200741292085\n",
            "Iter #52: obecny punkt: 1.9999360593033668\n",
            "Iter #53: obecny punkt: 1.9999488474426934\n",
            "Iter #54: obecny punkt: 1.9999590779541547\n",
            "Iter #55: obecny punkt: 1.9999672623633238\n",
            "Iter #56: obecny punkt: 1.999973809890659\n",
            "Iter #57: obecny punkt: 1.9999790479125272\n",
            "Iter #58: obecny punkt: 1.9999832383300218\n",
            "Iter #59: obecny punkt: 1.9999865906640175\n",
            "Iter #60: obecny punkt: 1.999989272531214\n",
            "Iter #61: obecny punkt: 1.9999914180249712\n",
            "Iter #62: obecny punkt: 1.9999931344199768\n",
            "Iter #63: obecny punkt: 1.9999945075359815\n",
            "Iter #64: obecny punkt: 1.9999956060287851\n",
            "Iter #65: obecny punkt: 1.999996484823028\n",
            "Minimum globalne: 1.999996484823028\n"
          ],
          "name": "stdout"
        }
      ]
    },
    {
      "cell_type": "code",
      "metadata": {
        "id": "e0rp5a1AaWI4",
        "colab_type": "code",
        "colab": {}
      },
      "source": [
        "weights"
      ],
      "execution_count": 0,
      "outputs": []
    },
    {
      "cell_type": "code",
      "metadata": {
        "id": "TGBNZmqzbgAq",
        "colab_type": "code",
        "colab": {
          "base_uri": "https://localhost:8080/",
          "height": 377
        },
        "outputId": "bfe51003-2f9d-43d9-b70f-21ae74ab2621"
      },
      "source": [
        "plt.figure(figsize=(8, 6))\n",
        "plt.plot(w, Loss)\n",
        "for weight in weights:\n",
        "  plt.plot(weight, weight**2 -4*weight, 'ro')"
      ],
      "execution_count": 21,
      "outputs": [
        {
          "output_type": "display_data",
          "data": {
            "image/png": "[encoded data removed]",
            "text/plain": [
              "<Figure size 576x432 with 1 Axes>"
            ]
          },
          "metadata": {
            "tags": []
          }
        }
      ]
    },
    {
      "cell_type": "code",
      "metadata": {
        "id": "BJoz2ag0b4J8",
        "colab_type": "code",
        "colab": {}
      },
      "source": [
        ""
      ],
      "execution_count": 0,
      "outputs": []
    }
  ]
}