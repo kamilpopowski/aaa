{
  "nbformat": 4,
  "nbformat_minor": 0,
  "metadata": {
    "colab": {
      "name": "Implementacja_sieci.ipynb",
      "provenance": [],
      "collapsed_sections": [],
      "include_colab_link": true
    },
    "kernelspec": {
      "name": "python3",
      "display_name": "Python 3"
    }
  },
  "cells": [
    {
      "cell_type": "markdown",
      "metadata": {
        "id": "view-in-github",
        "colab_type": "text"
      },
      "source": [
        "<a href=\"https://colab.research.google.com/github/kamilpopowski/aaa/blob/master/Implementacja_sieci.ipynb\" target=\"_parent\"><img src=\"https://colab.research.google.com/assets/colab-badge.svg\" alt=\"Open In Colab\"/></a>"
      ]
    },
    {
      "cell_type": "markdown",
      "metadata": {
        "id": "8LjalmCjyN7u",
        "colab_type": "text"
      },
      "source": [
        "###Implementacja sieci neuronowej"
      ]
    },
    {
      "cell_type": "code",
      "metadata": {
        "id": "75a3UpiOyBXs",
        "colab_type": "code",
        "colab": {}
      },
      "source": [
        "import numpy as np\n",
        "\n",
        "np.random.seed(0)\n",
        "\n",
        "X = np.array([[1.0, 0.7]]) #1.0 to x1 - liczba odwiedzin sklep; 0,7 to x2 - czas spedzony na stronie\n",
        "y_true = np.array([1.80]) #całkowity wydatek na stronie\n",
        "\n"
      ],
      "execution_count": 0,
      "outputs": []
    },
    {
      "cell_type": "code",
      "metadata": {
        "id": "jI6j4ATq1M1J",
        "colab_type": "code",
        "colab": {}
      },
      "source": [
        "def initialize_parameters(n_x, n_h, n_y): #inicjalizacja n_x - ilosc wejsc, n_h - ilosc neuronów, n_y - ilosc wyjsc (potrzebne do zainicjalizowania wag)\n",
        "  W1 = np.random.randn(n_h, n_x) #zainicjalizowanie W1 (warstwa ukrywa)\n",
        "  W2 = np.random.randn(n_h, n_y) #zainicjalizowanie W2 (warstwa ukrywa)\n",
        "  return W1, W2\n",
        "\n",
        "def forward_propagation(X, W1, W2): #propagacja w przód, nadanie wag, pomnożenie przez siebie macieży \n",
        "  H = np.dot(X, W1) #dot mnoży macieże, parametry w nawiasie to macieże\n",
        "  y_pred = np.dot(H, W2) #pomnożenie macieży otrzymanej w H przez W2\n",
        "  return H, y_pred\n",
        "\n",
        "def calculate_error(y_true, y_pred): #error z obliczeń\n",
        "  return y_pred - y_true\n",
        "\n",
        "def backpropagation(X, W1, W2, learning_rate = 0.01, iters = 1000, precision = 0.0000001): #propagacja wsteczna\n",
        "  H, y_pred = forward_propagation(X, W1, W2) #po aktywacji backpropagation uruchomione zostanie forward_propagation i przypisze wartości do H i y_pred\n",
        "\n",
        "  for i in range(iters):\n",
        "    error = calculate_error(y_true, y_pred)\n",
        "    W2 = W2 - learning_rate * error * H.T #H.T - transpozycja macieży (T po kropce)\n",
        "    W1 = W1 - learning_rate * error * X.T * W2.T\n",
        "\n",
        "    _, y_pred = forward_propagation(X, W1, W2) #podkreślnik to warstwa H(oznaczenie to znaczy, ze H nie jest juz potrzebne); zastąpienie forward, zaktualizowanie\n",
        "\n",
        "    print('Iter {}, y_pred: {}, error: {}'.format(i, y_pred[0][0], calculate_error(y_true, y_pred)[0][0]))\n",
        "\n",
        "    if abs(error) < precision:\n",
        "      break\n",
        "  return W1, W2\n",
        "\n",
        "def predict(X, W1, W2):\n",
        "  _, y_pred = forward_propagation(X, W1, W2)\n",
        "  return y_pred\n",
        "\n",
        "def build_model():\n",
        "\n",
        "  #inicjalizacja wag\n",
        "  W1, W2 = initialize_parameters(2, 2, 1)\n",
        "\n",
        "  #propagacja wsteczna\n",
        "  W1, W2 = backpropagation(X, W1, W2)\n",
        "\n",
        "  model = {'W1':W1, 'W2':W2}\n",
        "  return model\n",
        "\n"
      ],
      "execution_count": 0,
      "outputs": []
    },
    {
      "cell_type": "code",
      "metadata": {
        "id": "Rxwoj7LU1kD0",
        "colab_type": "code",
        "outputId": "5f904a8e-aa30-4a59-f821-1d2166e86822",
        "colab": {
          "base_uri": "https://localhost:8080/",
          "height": 1000
        }
      },
      "source": [
        " build_model()"
      ],
      "execution_count": 3,
      "outputs": [
        {
          "output_type": "stream",
          "text": [
            "Iter 0, y_pred: 2.5102903258413267, error: 0.7102903258413267\n",
            "Iter 1, y_pred: 2.3942128886202894, error: 0.5942128886202893\n",
            "Iter 2, y_pred: 2.2975216051794445, error: 0.49752160517944444\n",
            "Iter 3, y_pred: 2.2168494026065098, error: 0.4168494026065097\n",
            "Iter 4, y_pred: 2.1494544326841285, error: 0.34945443268412846\n",
            "Iter 5, y_pred: 2.09309139796454, error: 0.29309139796453976\n",
            "Iter 6, y_pred: 2.045913194338284, error: 0.24591319433828374\n",
            "Iter 7, y_pred: 2.006394603914757, error: 0.20639460391475706\n",
            "Iter 8, y_pred: 1.9732723398847796, error: 0.17327233988477952\n",
            "Iter 9, y_pred: 1.9454974293328586, error: 0.14549742933285859\n",
            "Iter 10, y_pred: 1.9221970490121407, error: 0.12219704901214068\n",
            "Iter 11, y_pred: 1.902643701719494, error: 0.10264370171949388\n",
            "Iter 12, y_pred: 1.8862301600890445, error: 0.0862301600890445\n",
            "Iter 13, y_pred: 1.8724489879378585, error: 0.07244898793785848\n",
            "Iter 14, y_pred: 1.8608757266090086, error: 0.06087572660900853\n",
            "Iter 15, y_pred: 1.851155037689987, error: 0.05115503768998697\n",
            "Iter 16, y_pred: 1.8429892457536492, error: 0.04298924575364915\n",
            "Iter 17, y_pred: 1.8361288400685845, error: 0.03612884006858441\n",
            "Iter 18, y_pred: 1.830364582659354, error: 0.030364582659353934\n",
            "Iter 19, y_pred: 1.825520938717995, error: 0.02552093871799488\n",
            "Iter 20, y_pred: 1.8214505991760421, error: 0.021450599176042084\n",
            "Iter 21, y_pred: 1.818029907834708, error: 0.018029907834707926\n",
            "Iter 22, y_pred: 1.815155039439912, error: 0.015155039439912033\n",
            "Iter 23, y_pred: 1.8127388024133455, error: 0.012738802413345462\n",
            "Iter 24, y_pred: 1.8107079620584288, error: 0.010707962058428722\n",
            "Iter 25, y_pred: 1.8090009980466029, error: 0.009000998046602815\n",
            "Iter 26, y_pred: 1.8075662246936677, error: 0.007566224693667634\n",
            "Iter 27, y_pred: 1.8063602146071638, error: 0.006360214607163739\n",
            "Iter 28, y_pred: 1.8053464762307057, error: 0.00534647623070561\n",
            "Iter 29, y_pred: 1.8044943440297625, error: 0.004494344029762454\n",
            "Iter 30, y_pred: 1.8037780468728388, error: 0.0037780468728387806\n",
            "Iter 31, y_pred: 1.8031759258166429, error: 0.003175925816642833\n",
            "Iter 32, y_pred: 1.802669777208457, error: 0.002669777208456958\n",
            "Iter 33, y_pred: 1.8022443009393343, error: 0.002244300939334254\n",
            "Iter 34, y_pred: 1.8018866369532347, error: 0.001886636953234655\n",
            "Iter 35, y_pred: 1.8015859758503021, error: 0.0015859758503020682\n",
            "Iter 36, y_pred: 1.801333231708, error: 0.0013332317079999267\n",
            "Iter 37, y_pred: 1.8011207671566751, error: 0.0011207671566750843\n",
            "Iter 38, y_pred: 1.8009421623481598, error: 0.0009421623481598029\n",
            "Iter 39, y_pred: 1.8007920207985881, error: 0.0007920207985880889\n",
            "Iter 40, y_pred: 1.800665806212181, error: 0.0006658062121809305\n",
            "Iter 41, y_pred: 1.8005597053369513, error: 0.0005597053369512661\n",
            "Iter 42, y_pred: 1.8004705126954708, error: 0.00047051269547071506\n",
            "Iter 43, y_pred: 1.8003955336987736, error: 0.0003955336987735425\n",
            "Iter 44, y_pred: 1.8003325032096997, error: 0.00033250320969968605\n",
            "Iter 45, y_pred: 1.8002795170907322, error: 0.0002795170907321509\n",
            "Iter 46, y_pred: 1.8002349746650634, error: 0.00023497466506339215\n",
            "Iter 47, y_pred: 1.800197530350339, error: 0.00019753035033898136\n",
            "Iter 48, y_pred: 1.8001660530022807, error: 0.000166053002280675\n",
            "Iter 49, y_pred: 1.8001395917388776, error: 0.0001395917388775647\n",
            "Iter 50, y_pred: 1.800117347211875, error: 0.0001173472118749519\n",
            "Iter 51, y_pred: 1.8000986474571694, error: 9.864745716936518e-05\n",
            "Iter 52, y_pred: 1.8000829275941674, error: 8.292759416739237e-05\n",
            "Iter 53, y_pred: 1.8000697127605627, error: 6.971276056266795e-05\n",
            "Iter 54, y_pred: 1.8000586037668431, error: 5.860376684307944e-05\n",
            "Iter 55, y_pred: 1.8000492650370332, error: 4.926503703317486e-05\n",
            "Iter 56, y_pred: 1.800041414471266, error: 4.141447126593256e-05\n",
            "Iter 57, y_pred: 1.800034814923912, error: 3.481492391199659e-05\n",
            "Iter 58, y_pred: 1.8000292670397764, error: 2.926703977634837e-05\n",
            "Iter 59, y_pred: 1.8000246032319254, error: 2.460323192532421e-05\n",
            "Iter 60, y_pred: 1.8000206826192113, error: 2.0682619211287445e-05\n",
            "Iter 61, y_pred: 1.8000173867705427, error: 1.738677054263782e-05\n",
            "Iter 62, y_pred: 1.8000146161273451, error: 1.461612734510176e-05\n",
            "Iter 63, y_pred: 1.8000122869961293, error: 1.228699612920714e-05\n",
            "Iter 64, y_pred: 1.8000103290203033, error: 1.0329020303290193e-05\n",
            "Iter 65, y_pred: 1.8000086830548843, error: 8.683054884217611e-06\n",
            "Iter 66, y_pred: 1.8000072993798737, error: 7.299379873648704e-06\n",
            "Iter 67, y_pred: 1.8000061361983457, error: 6.136198345663146e-06\n",
            "Iter 68, y_pred: 1.8000051583738697, error: 5.158373869607047e-06\n",
            "Iter 69, y_pred: 1.8000043363691405, error: 4.336369140434115e-06\n",
            "Iter 70, y_pred: 1.800003645353729, error: 3.6453537288760884e-06\n",
            "Iter 71, y_pred: 1.800003064454025, error: 3.0644540249813446e-06\n",
            "Iter 72, y_pred: 1.8000025761227043, error: 2.576122704267547e-06\n",
            "Iter 73, y_pred: 1.8000021656086718, error: 2.165608671722552e-06\n",
            "Iter 74, y_pred: 1.800001820511469, error: 1.8205114689084922e-06\n",
            "Iter 75, y_pred: 1.8000015304066976, error: 1.5304066975918573e-06\n",
            "Iter 76, y_pred: 1.8000012865311237, error: 1.2865311236343047e-06\n",
            "Iter 77, y_pred: 1.800001081517963, error: 1.0815179629641847e-06\n",
            "Iter 78, y_pred: 1.8000009091743556, error: 9.091743555789122e-07\n",
            "Iter 79, y_pred: 1.800000764294297, error: 7.642942969621203e-07\n",
            "Iter 80, y_pred: 1.8000006425013724, error: 6.425013723276862e-07\n",
            "Iter 81, y_pred: 1.8000005401165708, error: 5.401165708018851e-07\n",
            "Iter 82, y_pred: 1.8000004540471397, error: 4.540471396641266e-07\n",
            "Iter 83, y_pred: 1.8000003816931671, error: 3.8169316707303835e-07\n",
            "Iter 84, y_pred: 1.8000003208690507, error: 3.208690506628642e-07\n",
            "Iter 85, y_pred: 1.8000002697374646, error: 2.6973746458658354e-07\n",
            "Iter 86, y_pred: 1.8000002267538733, error: 2.2675387323367602e-07\n",
            "Iter 87, y_pred: 1.8000001906198646, error: 1.9061986455959357e-07\n",
            "Iter 88, y_pred: 1.8000001602439348, error: 1.6024393478808463e-07\n",
            "Iter 89, y_pred: 1.800000134708513, error: 1.3470851301100595e-07\n",
            "Iter 90, y_pred: 1.8000001132422492, error: 1.1324224913344949e-07\n",
            "Iter 91, y_pred: 1.8000000951967077, error: 9.519670762792032e-08\n",
            "Iter 92, y_pred: 1.800000080026786, error: 8.002678586471745e-08\n"
          ],
          "name": "stdout"
        },
        {
          "output_type": "execute_result",
          "data": {
            "text/plain": [
              "{'W1': array([[1.66971948, 0.45438846],\n",
              "        [0.91270498, 2.27885507]]), 'W2': array([[ 1.7390372 ],\n",
              "        [-1.08059026]])}"
            ]
          },
          "metadata": {
            "tags": []
          },
          "execution_count": 3
        }
      ]
    }
  ]
}