{
  "nbformat": 4,
  "nbformat_minor": 0,
  "metadata": {
    "colab": {
      "name": "Konwolucyjna sieć neuronowa.ipynb",
      "provenance": [],
      "collapsed_sections": [],
      "include_colab_link": true
    },
    "kernelspec": {
      "name": "python3",
      "display_name": "Python 3"
    }
  },
  "cells": [
    {
      "cell_type": "markdown",
      "metadata": {
        "id": "view-in-github",
        "colab_type": "text"
      },
      "source": [
        "<a href=\"https://colab.research.google.com/github/kamilpopowski/aaa/blob/master/Konwolucyjna_sie%C4%87_neuronowa.ipynb\" target=\"_parent\"><img src=\"https://colab.research.google.com/assets/colab-badge.svg\" alt=\"Open In Colab\"/></a>"
      ]
    },
    {
      "cell_type": "code",
      "metadata": {
        "id": "koCjZWqtlsqf",
        "colab_type": "code",
        "colab": {}
      },
      "source": [
        "import keras\n",
        "from keras.datasets import mnist\n",
        "from keras.models import Sequential\n",
        "from keras.layers import Dense, Flatten, Conv2D, MaxPooling2D #flaten wyplaszczy dane z obraskow, Conv2D odpowiedzialna za konwolucje, maxpooling za maxpooling"
      ],
      "execution_count": 0,
      "outputs": []
    },
    {
      "cell_type": "code",
      "metadata": {
        "id": "lF3R8JRS2oR5",
        "colab_type": "code",
        "colab": {}
      },
      "source": [
        "(x_train, y_train), (x_test, y_test) = mnist.load_data()"
      ],
      "execution_count": 0,
      "outputs": []
    },
    {
      "cell_type": "code",
      "metadata": {
        "id": "V3-Z54IB4qoY",
        "colab_type": "code",
        "outputId": "eb806d65-6be5-417f-8aed-a1fdaa990929",
        "colab": {
          "base_uri": "https://localhost:8080/",
          "height": 134
        }
      },
      "source": [
        "print(x_train.shape)\n",
        "print(x_test.shape)\n",
        "print(y_train.shape)\n",
        "print(y_test.shape)\n",
        "\n",
        "print('liczba danych treningowych: ', x_train.shape[0])\n",
        "print('liczba danych testowych: ', x_test.shape[0])\n",
        "print('rozmiar pojedynczego obrazka: ', x_train[0].shape)"
      ],
      "execution_count": 74,
      "outputs": [
        {
          "output_type": "stream",
          "text": [
            "(60000, 28, 28)\n",
            "(10000, 28, 28)\n",
            "(60000,)\n",
            "(10000,)\n",
            "liczba danych treningowych:  60000\n",
            "liczba danych testowych:  10000\n",
            "rozmiar pojedynczego obrazka:  (28, 28)\n"
          ],
          "name": "stdout"
        }
      ]
    },
    {
      "cell_type": "code",
      "metadata": {
        "id": "HPy8D9zA5OqM",
        "colab_type": "code",
        "outputId": "9f2dbfa9-16aa-4617-be0f-703c7f9a2811",
        "colab": {
          "base_uri": "https://localhost:8080/",
          "height": 265
        }
      },
      "source": [
        "import matplotlib.pyplot as plt\n",
        "\n",
        "plt.imshow(x_train[5], cmap='Greys')\n",
        "plt.axis('off')"
      ],
      "execution_count": 75,
      "outputs": [
        {
          "output_type": "execute_result",
          "data": {
            "text/plain": [
              "(-0.5, 27.5, 27.5, -0.5)"
            ]
          },
          "metadata": {
            "tags": []
          },
          "execution_count": 75
        },
        {
          "output_type": "display_data",
          "data": {
            "image/png": "[encoded data removed]",
            "text/plain": [
              "<Figure size 432x288 with 1 Axes>"
            ]
          },
          "metadata": {
            "tags": []
          }
        }
      ]
    },
    {
      "cell_type": "code",
      "metadata": {
        "id": "ri39Fzin6HhG",
        "colab_type": "code",
        "outputId": "2fe23797-7460-4972-b405-ea8bfd331602",
        "colab": {
          "base_uri": "https://localhost:8080/",
          "height": 34
        }
      },
      "source": [
        "print(keras.backend.image_data_format()) #sposób zapisu danych w naszych obrazkach"
      ],
      "execution_count": 76,
      "outputs": [
        {
          "output_type": "stream",
          "text": [
            "channels_last\n"
          ],
          "name": "stdout"
        }
      ]
    },
    {
      "cell_type": "code",
      "metadata": {
        "id": "ACxUFjd36eKw",
        "colab_type": "code",
        "outputId": "0dfc7741-3475-4c1e-d15f-965508578910",
        "colab": {
          "base_uri": "https://localhost:8080/",
          "height": 34
        }
      },
      "source": [
        "img_rows, img_cols = 28, 28\n",
        "if keras.backend.image_data_format() == 'channel_first': #przeksztalcamy dane tak aby na 1 miejscu byla liczba próbek (60k), pozniej liczbe kanalow (1) i rozmiar obrazka\n",
        "  x_train = x_train.reshape(x_train.shape[0], 1, img_rows, img_cols)\n",
        "  x_test = x_test.reshape(x_test.shape[0], 1, img_rows, img_cols)\n",
        "  input_shape = (1, img_rows, img_cols)\n",
        "else:\n",
        "  x_train = x_train.reshape(x_train.shape[0], img_rows, img_cols, 1)\n",
        "  x_test = x_test.reshape(x_test.shape[0], img_rows, img_cols, 1)\n",
        "  input_shape = (img_rows, img_cols, 1)\n",
        "\n",
        "print(input_shape)"
      ],
      "execution_count": 77,
      "outputs": [
        {
          "output_type": "stream",
          "text": [
            "(28, 28, 1)\n"
          ],
          "name": "stdout"
        }
      ]
    },
    {
      "cell_type": "code",
      "metadata": {
        "id": "9p26FSFIK2vy",
        "colab_type": "code",
        "outputId": "24419f7c-c3ed-410b-945c-30f6dd70a52c",
        "colab": {
          "base_uri": "https://localhost:8080/",
          "height": 34
        }
      },
      "source": [
        "y_train[0:10]"
      ],
      "execution_count": 78,
      "outputs": [
        {
          "output_type": "execute_result",
          "data": {
            "text/plain": [
              "array([5, 0, 4, 1, 9, 2, 1, 3, 1, 4], dtype=uint8)"
            ]
          },
          "metadata": {
            "tags": []
          },
          "execution_count": 78
        }
      ]
    },
    {
      "cell_type": "code",
      "metadata": {
        "id": "zIvr_H_j8Pkz",
        "colab_type": "code",
        "outputId": "5f625874-d645-4814-ebd6-84d7356b1895",
        "colab": {
          "base_uri": "https://localhost:8080/",
          "height": 50
        }
      },
      "source": [
        "x_train = x_train.astype('float32') #przekonwertowanie dancyh na typ float\n",
        "x_test = x_test.astype('float32')\n",
        "\n",
        "x_train /= 255 #wystandaryzowanie danych (przedział 0 - 1)\n",
        "x_test /= 255\n",
        "\n",
        "print(x_train.shape)\n",
        "print(x_test.shape)"
      ],
      "execution_count": 79,
      "outputs": [
        {
          "output_type": "stream",
          "text": [
            "(60000, 28, 28, 1)\n",
            "(10000, 28, 28, 1)\n"
          ],
          "name": "stdout"
        }
      ]
    },
    {
      "cell_type": "code",
      "metadata": {
        "id": "5kjWxBR19LCc",
        "colab_type": "code",
        "outputId": "6d41ab00-682f-4b69-bdf3-82cdd772b9d0",
        "colab": {
          "base_uri": "https://localhost:8080/",
          "height": 50
        }
      },
      "source": [
        "y_train = keras.utils.to_categorical(y_train, num_classes=10)#przekształcenie labeli na wektory, w których 1 będzie na miejscu odpowiadajacemu cyfrze na obrazie\n",
        "y_test = keras.utils.to_categorical(y_test, num_classes=10)\n",
        "\n",
        "print(y_train.shape)\n",
        "print(y_test.shape)"
      ],
      "execution_count": 80,
      "outputs": [
        {
          "output_type": "stream",
          "text": [
            "(60000, 10)\n",
            "(10000, 10)\n"
          ],
          "name": "stdout"
        }
      ]
    },
    {
      "cell_type": "code",
      "metadata": {
        "id": "G8rXdeuk9k9S",
        "colab_type": "code",
        "outputId": "dbf6ece8-2773-4b00-d394-62cd995ba428",
        "colab": {
          "base_uri": "https://localhost:8080/",
          "height": 185
        }
      },
      "source": [
        "y_train[0:10]"
      ],
      "execution_count": 81,
      "outputs": [
        {
          "output_type": "execute_result",
          "data": {
            "text/plain": [
              "array([[0., 0., 0., 0., 0., 1., 0., 0., 0., 0.],\n",
              "       [1., 0., 0., 0., 0., 0., 0., 0., 0., 0.],\n",
              "       [0., 0., 0., 0., 1., 0., 0., 0., 0., 0.],\n",
              "       [0., 1., 0., 0., 0., 0., 0., 0., 0., 0.],\n",
              "       [0., 0., 0., 0., 0., 0., 0., 0., 0., 1.],\n",
              "       [0., 0., 1., 0., 0., 0., 0., 0., 0., 0.],\n",
              "       [0., 1., 0., 0., 0., 0., 0., 0., 0., 0.],\n",
              "       [0., 0., 0., 1., 0., 0., 0., 0., 0., 0.],\n",
              "       [0., 1., 0., 0., 0., 0., 0., 0., 0., 0.],\n",
              "       [0., 0., 0., 0., 1., 0., 0., 0., 0., 0.]], dtype=float32)"
            ]
          },
          "metadata": {
            "tags": []
          },
          "execution_count": 81
        }
      ]
    },
    {
      "cell_type": "code",
      "metadata": {
        "id": "ZQOtPCfM91vt",
        "colab_type": "code",
        "outputId": "55fcf97d-9519-4fba-d647-c5179630cb7e",
        "colab": {
          "base_uri": "https://localhost:8080/",
          "height": 353
        }
      },
      "source": [
        "model = Sequential()\n",
        "#dodawanie warstw w procesie budowy architektury sieci\n",
        "model.add(Conv2D(filters=32, kernel_size=(3, 3), activation='relu',input_shape =(28,28,1))) #folters - liczba filtrow, ktorych nauczy sie sieć, kernel_size - rozmiar filtru; \n",
        "model.add(Conv2D(filters=64, kernel_size=(3, 3), activation='relu')) #kolejna warstwa konwolucji, niech mieli \n",
        "model.add(MaxPooling2D(pool_size=(2, 2))) #maxpooling zmniejszy złożoność problemu; pool_size - rozmiar okna ekstrakcji, którym latamy po obrazkach\n",
        "model.add(Flatten()) #spłaszcza wszystko (macież staje sie jednokolumnowa)\n",
        "model.add(Dense(units=128, activation='relu')) #Dense przyjmuje wartość neuronów\n",
        "model.add(Dense(units=10, activation='softmax')) #softmax wyrzuci prawdopodobieństwa wyliczonych klas\n",
        "\n",
        "model.summary()"
      ],
      "execution_count": 82,
      "outputs": [
        {
          "output_type": "stream",
          "text": [
            "Model: \"sequential_4\"\n",
            "_________________________________________________________________\n",
            "Layer (type)                 Output Shape              Param #   \n",
            "=================================================================\n",
            "conv2d_7 (Conv2D)            (None, 26, 26, 32)        320       \n",
            "_________________________________________________________________\n",
            "conv2d_8 (Conv2D)            (None, 24, 24, 64)        18496     \n",
            "_________________________________________________________________\n",
            "max_pooling2d_4 (MaxPooling2 (None, 12, 12, 64)        0         \n",
            "_________________________________________________________________\n",
            "flatten_4 (Flatten)          (None, 9216)              0         \n",
            "_________________________________________________________________\n",
            "dense_7 (Dense)              (None, 128)               1179776   \n",
            "_________________________________________________________________\n",
            "dense_8 (Dense)              (None, 10)                1290      \n",
            "=================================================================\n",
            "Total params: 1,199,882\n",
            "Trainable params: 1,199,882\n",
            "Non-trainable params: 0\n",
            "_________________________________________________________________\n"
          ],
          "name": "stdout"
        }
      ]
    },
    {
      "cell_type": "code",
      "metadata": {
        "id": "o_-ACM1_Aqdl",
        "colab_type": "code",
        "colab": {}
      },
      "source": [
        "model.compile(optimizer='adadelta', \n",
        "              loss='categorical_crossentropy',\n",
        "              metrics=['accuracy']) #skompilowanie modelu; optimizer - optymalizator, loss - funkcja straty"
      ],
      "execution_count": 0,
      "outputs": []
    },
    {
      "cell_type": "code",
      "metadata": {
        "id": "-dgt8uI7BgnT",
        "colab_type": "code",
        "outputId": "c4db2682-8f74-4720-e017-8d69e72e541d",
        "colab": {
          "base_uri": "https://localhost:8080/",
          "height": 1000
        }
      },
      "source": [
        "his = model.fit(x_train, y_train, batch_size=128, epochs=20, validation_data=(x_test, y_test))"
      ],
      "execution_count": 84,
      "outputs": [
        {
          "output_type": "stream",
          "text": [
            "WARNING:tensorflow:From /usr/local/lib/python3.6/dist-packages/tensorflow_core/python/ops/math_grad.py:1424: where (from tensorflow.python.ops.array_ops) is deprecated and will be removed in a future version.\n",
            "Instructions for updating:\n",
            "Use tf.where in 2.0, which has the same broadcast rule as np.where\n",
            "WARNING:tensorflow:From /usr/local/lib/python3.6/dist-packages/keras/backend/tensorflow_backend.py:1033: The name tf.assign_add is deprecated. Please use tf.compat.v1.assign_add instead.\n",
            "\n",
            "WARNING:tensorflow:From /usr/local/lib/python3.6/dist-packages/keras/backend/tensorflow_backend.py:1020: The name tf.assign is deprecated. Please use tf.compat.v1.assign instead.\n",
            "\n",
            "WARNING:tensorflow:From /usr/local/lib/python3.6/dist-packages/keras/backend/tensorflow_backend.py:3005: The name tf.Session is deprecated. Please use tf.compat.v1.Session instead.\n",
            "\n",
            "Train on 60000 samples, validate on 10000 samples\n",
            "Epoch 1/20\n",
            "WARNING:tensorflow:From /usr/local/lib/python3.6/dist-packages/keras/backend/tensorflow_backend.py:190: The name tf.get_default_session is deprecated. Please use tf.compat.v1.get_default_session instead.\n",
            "\n",
            "WARNING:tensorflow:From /usr/local/lib/python3.6/dist-packages/keras/backend/tensorflow_backend.py:197: The name tf.ConfigProto is deprecated. Please use tf.compat.v1.ConfigProto instead.\n",
            "\n",
            "WARNING:tensorflow:From /usr/local/lib/python3.6/dist-packages/keras/backend/tensorflow_backend.py:207: The name tf.global_variables is deprecated. Please use tf.compat.v1.global_variables instead.\n",
            "\n",
            "WARNING:tensorflow:From /usr/local/lib/python3.6/dist-packages/keras/backend/tensorflow_backend.py:216: The name tf.is_variable_initialized is deprecated. Please use tf.compat.v1.is_variable_initialized instead.\n",
            "\n",
            "WARNING:tensorflow:From /usr/local/lib/python3.6/dist-packages/keras/backend/tensorflow_backend.py:223: The name tf.variables_initializer is deprecated. Please use tf.compat.v1.variables_initializer instead.\n",
            "\n",
            "60000/60000 [==============================] - 147s 2ms/step - loss: 0.1859 - acc: 0.9442 - val_loss: 0.0484 - val_acc: 0.9840\n",
            "Epoch 2/20\n",
            "60000/60000 [==============================] - 146s 2ms/step - loss: 0.0474 - acc: 0.9856 - val_loss: 0.0575 - val_acc: 0.9827\n",
            "Epoch 3/20\n",
            "60000/60000 [==============================] - 147s 2ms/step - loss: 0.0312 - acc: 0.9900 - val_loss: 0.0316 - val_acc: 0.9903\n",
            "Epoch 4/20\n",
            "60000/60000 [==============================] - 147s 2ms/step - loss: 0.0208 - acc: 0.9935 - val_loss: 0.0361 - val_acc: 0.9881\n",
            "Epoch 5/20\n",
            "60000/60000 [==============================] - 147s 2ms/step - loss: 0.0148 - acc: 0.9953 - val_loss: 0.0378 - val_acc: 0.9892\n",
            "Epoch 6/20\n",
            "60000/60000 [==============================] - 147s 2ms/step - loss: 0.0105 - acc: 0.9968 - val_loss: 0.0313 - val_acc: 0.9900\n",
            "Epoch 7/20\n",
            "60000/60000 [==============================] - 148s 2ms/step - loss: 0.0070 - acc: 0.9980 - val_loss: 0.0317 - val_acc: 0.9901\n",
            "Epoch 8/20\n",
            "60000/60000 [==============================] - 147s 2ms/step - loss: 0.0048 - acc: 0.9986 - val_loss: 0.0398 - val_acc: 0.9893\n",
            "Epoch 9/20\n",
            "60000/60000 [==============================] - 147s 2ms/step - loss: 0.0039 - acc: 0.9990 - val_loss: 0.0371 - val_acc: 0.9909\n",
            "Epoch 10/20\n",
            "60000/60000 [==============================] - 147s 2ms/step - loss: 0.0026 - acc: 0.9994 - val_loss: 0.0381 - val_acc: 0.9906\n",
            "Epoch 11/20\n",
            "60000/60000 [==============================] - 147s 2ms/step - loss: 0.0017 - acc: 0.9995 - val_loss: 0.0431 - val_acc: 0.9906\n",
            "Epoch 12/20\n",
            "60000/60000 [==============================] - 147s 2ms/step - loss: 8.9141e-04 - acc: 0.9998 - val_loss: 0.0427 - val_acc: 0.9902\n",
            "Epoch 13/20\n",
            "60000/60000 [==============================] - 147s 2ms/step - loss: 8.9589e-04 - acc: 0.9998 - val_loss: 0.0474 - val_acc: 0.9896\n",
            "Epoch 14/20\n",
            "60000/60000 [==============================] - 147s 2ms/step - loss: 6.3394e-04 - acc: 0.9999 - val_loss: 0.0425 - val_acc: 0.9906\n",
            "Epoch 15/20\n",
            "60000/60000 [==============================] - 148s 2ms/step - loss: 6.0576e-04 - acc: 0.9999 - val_loss: 0.0458 - val_acc: 0.9907\n",
            "Epoch 16/20\n",
            "60000/60000 [==============================] - 147s 2ms/step - loss: 4.6951e-04 - acc: 0.9999 - val_loss: 0.0488 - val_acc: 0.9900\n",
            "Epoch 17/20\n",
            "60000/60000 [==============================] - 147s 2ms/step - loss: 4.1356e-04 - acc: 0.9999 - val_loss: 0.0459 - val_acc: 0.9902\n",
            "Epoch 18/20\n",
            "60000/60000 [==============================] - 147s 2ms/step - loss: 3.2961e-04 - acc: 1.0000 - val_loss: 0.0475 - val_acc: 0.9908\n",
            "Epoch 19/20\n",
            "60000/60000 [==============================] - 147s 2ms/step - loss: 3.3794e-04 - acc: 1.0000 - val_loss: 0.0462 - val_acc: 0.9907\n",
            "Epoch 20/20\n",
            "60000/60000 [==============================] - 148s 2ms/step - loss: 2.8691e-04 - acc: 1.0000 - val_loss: 0.0465 - val_acc: 0.9908\n"
          ],
          "name": "stdout"
        }
      ]
    },
    {
      "cell_type": "code",
      "metadata": {
        "id": "ZzVGo8Jje8R6",
        "colab_type": "code",
        "colab": {}
      },
      "source": [
        "def make_accuracy_plot(his):\n",
        "\n",
        "  import matplotlib.pyplot as plt\n",
        "  import seaborn as sns\n",
        "  sns.set()\n",
        "  acc, val_acc = his.history['acc'], his.history['val_acc']\n",
        "  epochs = range(1, len(acc) + 1)\n",
        "\n",
        "  plt.figure(figsize=(10, 8))\n",
        "  plt.plot(epochs, acc, label='dokladnosc trenowania', marker='o')\n",
        "  plt.plot(epochs, val_acc, label='dokladnosc walidacji', marker='o')\n",
        "  plt.legend()\n",
        "  plt.title('dokladnosc trenowania i walidacji')\n",
        "  plt.xlabel('epoki')\n",
        "  plt.ylabel('dokladnosc')\n",
        "  plt.show()\n",
        "\n",
        "def make_loss_plot(his):\n",
        "  import matplotlib.pyplot as plt\n",
        "  import seaborn as sns\n",
        "  sns.set()\n",
        "  loss, val_loss = his.history['loss'], his.history['val_loss']\n",
        "  epochs = range(1, len(loss) + 1)\n",
        "\n",
        "  plt.figure(figsize=(10, 8))\n",
        "  plt.plot(epochs, loss, label='strata trenowania', marker='o')\n",
        "  plt.plot(epochs, val_loss, label='strata walidacji', marker='o')\n",
        "  plt.legend()\n",
        "  plt.title('strata trenowania i walidacji')\n",
        "  plt.xlabel('epoki')\n",
        "  plt.ylabel('dokladnosc')\n",
        "  plt.show()\n"
      ],
      "execution_count": 0,
      "outputs": []
    },
    {
      "cell_type": "code",
      "metadata": {
        "id": "4QNqXPlXhToM",
        "colab_type": "code",
        "colab": {
          "base_uri": "https://localhost:8080/",
          "height": 518
        },
        "outputId": "649cad26-8f29-49c6-9598-30c8f659eb8d"
      },
      "source": [
        "make_accuracy_plot(his)"
      ],
      "execution_count": 93,
      "outputs": [
        {
          "output_type": "display_data",
          "data": {
            "image/png": "[encoded data removed]",
            "text/plain": [
              "<Figure size 720x576 with 1 Axes>"
            ]
          },
          "metadata": {
            "tags": []
          }
        }
      ]
    },
    {
      "cell_type": "code",
      "metadata": {
        "id": "9PdAkwC4hWUh",
        "colab_type": "code",
        "colab": {
          "base_uri": "https://localhost:8080/",
          "height": 538
        },
        "outputId": "1c8d12e4-520d-4887-ec66-d895ab6138bd"
      },
      "source": [
        "make_loss_plot(his)"
      ],
      "execution_count": 98,
      "outputs": [
        {
          "output_type": "display_data",
          "data": {
            "image/png": "[encoded data removed]",
            "text/plain": [
              "<Figure size 720x576 with 1 Axes>"
            ]
          },
          "metadata": {
            "tags": []
          }
        }
      ]
    },
    {
      "cell_type": "code",
      "metadata": {
        "id": "rEf7G478hush",
        "colab_type": "code",
        "colab": {}
      },
      "source": [
        ""
      ],
      "execution_count": 0,
      "outputs": []
    }
  ]
}