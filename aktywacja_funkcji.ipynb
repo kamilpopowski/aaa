{
  "nbformat": 4,
  "nbformat_minor": 0,
  "metadata": {
    "colab": {
      "name": "aktywacja_funkcji.ipynb",
      "provenance": [],
      "include_colab_link": true
    },
    "kernelspec": {
      "name": "python3",
      "display_name": "Python 3"
    },
    "accelerator": "GPU"
  },
  "cells": [
    {
      "cell_type": "markdown",
      "metadata": {
        "id": "view-in-github",
        "colab_type": "text"
      },
      "source": [
        "<a href=\"https://colab.research.google.com/github/kamilpopowski/aaa/blob/master/aktywacja_funkcji.ipynb\" target=\"_parent\"><img src=\"https://colab.research.google.com/assets/colab-badge.svg\" alt=\"Open In Colab\"/></a>"
      ]
    },
    {
      "cell_type": "markdown",
      "metadata": {
        "id": "WZ6oI_-9e9Jw",
        "colab_type": "text"
      },
      "source": [
        "##Funkcja Aktywacyjna\n",
        "###ReLU Function"
      ]
    },
    {
      "cell_type": "code",
      "metadata": {
        "id": "qQecfU13er2o",
        "colab_type": "code",
        "colab": {}
      },
      "source": [
        "import numpy as np\n",
        "import matplotlib.pyplot as plt\n",
        "import seaborn as sns\n",
        "sns.set()"
      ],
      "execution_count": 0,
      "outputs": []
    },
    {
      "cell_type": "code",
      "metadata": {
        "id": "lIHHghqffUuA",
        "colab_type": "code",
        "colab": {}
      },
      "source": [
        "def max_relu(x):\n",
        "  return max(x, 0)"
      ],
      "execution_count": 0,
      "outputs": []
    },
    {
      "cell_type": "code",
      "metadata": {
        "id": "8dcdY8qufczU",
        "colab_type": "code",
        "colab": {
          "base_uri": "https://localhost:8080/",
          "height": 101
        },
        "outputId": "86b3399e-d6bc-416b-ebc3-bf886407d021"
      },
      "source": [
        "for i in [-10, -5, 0, 5, 10]:\n",
        "  print(max_relu(i))"
      ],
      "execution_count": 3,
      "outputs": [
        {
          "output_type": "stream",
          "text": [
            "0\n",
            "0\n",
            "0\n",
            "5\n",
            "10\n"
          ],
          "name": "stdout"
        }
      ]
    },
    {
      "cell_type": "code",
      "metadata": {
        "id": "nTRGizxxfok3",
        "colab_type": "code",
        "colab": {
          "base_uri": "https://localhost:8080/",
          "height": 301
        },
        "outputId": "23dfc3fa-89c2-4313-8e1a-c92ad926cdc9"
      },
      "source": [
        "data = np.arange(-5, 5, 0.1)\n",
        "max_relu_data = [max_relu(x) for x in data]\n",
        "\n",
        "plt.plot(data,max_relu_data)\n",
        "plt.title('ReLU Function')"
      ],
      "execution_count": 9,
      "outputs": [
        {
          "output_type": "execute_result",
          "data": {
            "text/plain": [
              "Text(0.5, 1.0, 'ReLU Function')"
            ]
          },
          "metadata": {
            "tags": []
          },
          "execution_count": 9
        },
        {
          "output_type": "display_data",
          "data": {
            "image/png": "[encoded data removed]",
            "text/plain": [
              "<Figure size 432x288 with 1 Axes>"
            ]
          },
          "metadata": {
            "tags": []
          }
        }
      ]
    },
    {
      "cell_type": "code",
      "metadata": {
        "id": "g-Zu49qmfw6z",
        "colab_type": "code",
        "colab": {
          "base_uri": "https://localhost:8080/",
          "height": 1000
        },
        "outputId": "9562f324-7de2-47d2-bec3-12a3ce76c386"
      },
      "source": [
        "max_relu_data"
      ],
      "execution_count": 8,
      "outputs": [
        {
          "output_type": "execute_result",
          "data": {
            "text/plain": [
              "[0,\n",
              " 0,\n",
              " 0,\n",
              " 0,\n",
              " 0,\n",
              " 0,\n",
              " 0,\n",
              " 0,\n",
              " 0,\n",
              " 0,\n",
              " 0,\n",
              " 0,\n",
              " 0,\n",
              " 0,\n",
              " 0,\n",
              " 0,\n",
              " 0,\n",
              " 0,\n",
              " 0,\n",
              " 0,\n",
              " 0,\n",
              " 0,\n",
              " 0,\n",
              " 0,\n",
              " 0,\n",
              " 0,\n",
              " 0,\n",
              " 0,\n",
              " 0,\n",
              " 0,\n",
              " 0,\n",
              " 0,\n",
              " 0,\n",
              " 0,\n",
              " 0,\n",
              " 0,\n",
              " 0,\n",
              " 0,\n",
              " 0,\n",
              " 0,\n",
              " 0,\n",
              " 0,\n",
              " 0,\n",
              " 0,\n",
              " 0,\n",
              " 0,\n",
              " 0,\n",
              " 0,\n",
              " 0,\n",
              " 0,\n",
              " 0,\n",
              " 0.09999999999998188,\n",
              " 0.19999999999998153,\n",
              " 0.29999999999998117,\n",
              " 0.3999999999999808,\n",
              " 0.49999999999998046,\n",
              " 0.5999999999999801,\n",
              " 0.6999999999999797,\n",
              " 0.7999999999999794,\n",
              " 0.899999999999979,\n",
              " 0.9999999999999787,\n",
              " 1.0999999999999783,\n",
              " 1.199999999999978,\n",
              " 1.2999999999999776,\n",
              " 1.3999999999999773,\n",
              " 1.499999999999977,\n",
              " 1.5999999999999766,\n",
              " 1.6999999999999762,\n",
              " 1.7999999999999758,\n",
              " 1.8999999999999755,\n",
              " 1.9999999999999751,\n",
              " 2.0999999999999748,\n",
              " 2.1999999999999744,\n",
              " 2.299999999999974,\n",
              " 2.3999999999999737,\n",
              " 2.4999999999999734,\n",
              " 2.599999999999973,\n",
              " 2.6999999999999726,\n",
              " 2.7999999999999723,\n",
              " 2.899999999999972,\n",
              " 2.9999999999999716,\n",
              " 3.0999999999999712,\n",
              " 3.199999999999971,\n",
              " 3.2999999999999705,\n",
              " 3.39999999999997,\n",
              " 3.49999999999997,\n",
              " 3.5999999999999694,\n",
              " 3.699999999999969,\n",
              " 3.7999999999999687,\n",
              " 3.8999999999999684,\n",
              " 3.999999999999968,\n",
              " 4.099999999999968,\n",
              " 4.199999999999967,\n",
              " 4.299999999999967,\n",
              " 4.399999999999967,\n",
              " 4.499999999999966,\n",
              " 4.599999999999966,\n",
              " 4.6999999999999655,\n",
              " 4.799999999999965,\n",
              " 4.899999999999965]"
            ]
          },
          "metadata": {
            "tags": []
          },
          "execution_count": 8
        }
      ]
    },
    {
      "cell_type": "code",
      "metadata": {
        "id": "jFnJiiVyf8C_",
        "colab_type": "code",
        "colab": {}
      },
      "source": [
        ""
      ],
      "execution_count": 0,
      "outputs": []
    }
  ]
}