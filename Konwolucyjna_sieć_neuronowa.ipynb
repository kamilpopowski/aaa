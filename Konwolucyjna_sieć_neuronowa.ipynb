{
  "nbformat": 4,
  "nbformat_minor": 0,
  "metadata": {
    "colab": {
      "name": "Konwolucyjna sieć neuronowa.ipynb",
      "provenance": [],
      "collapsed_sections": [],
      "include_colab_link": true
    },
    "kernelspec": {
      "name": "python3",
      "display_name": "Python 3"
    }
  },
  "cells": [
    {
      "cell_type": "markdown",
      "metadata": {
        "id": "view-in-github",
        "colab_type": "text"
      },
      "source": [
        "<a href=\"https://colab.research.google.com/github/kamilpopowski/aaa/blob/master/Konwolucyjna_sie%C4%87_neuronowa.ipynb\" target=\"_parent\"><img src=\"https://colab.research.google.com/assets/colab-badge.svg\" alt=\"Open In Colab\"/></a>"
      ]
    },
    {
      "cell_type": "code",
      "metadata": {
        "id": "koCjZWqtlsqf",
        "colab_type": "code",
        "colab": {}
      },
      "source": [
        "import keras\n",
        "from keras.datasets import mnist\n",
        "from keras.models import Sequential\n",
        "from keras.layers import Dense, Flatten, Conv2D, MaxPooling2D #flaten wyplaszczy dane z obraskow, Conv2D odpowiedzialna za konwolucje, maxpooling za maxpooling"
      ],
      "execution_count": 0,
      "outputs": []
    },
    {
      "cell_type": "code",
      "metadata": {
        "id": "lF3R8JRS2oR5",
        "colab_type": "code",
        "colab": {}
      },
      "source": [
        "(x_train, y_train), (x_test, y_test) = mnist.load_data()"
      ],
      "execution_count": 0,
      "outputs": []
    },
    {
      "cell_type": "code",
      "metadata": {
        "id": "V3-Z54IB4qoY",
        "colab_type": "code",
        "outputId": "998d6699-e14f-435e-ee4e-5d88dd211d8b",
        "colab": {
          "base_uri": "https://localhost:8080/",
          "height": 134
        }
      },
      "source": [
        "print(x_train.shape)\n",
        "print(x_test.shape)\n",
        "print(y_train.shape)\n",
        "print(y_test.shape)\n",
        "\n",
        "print('liczba danych treningowych: ', x_train.shape[0])\n",
        "print('liczba danych testowych: ', x_test.shape[0])\n",
        "print('rozmiar pojedynczego obrazka: ', x_train[0].shape)"
      ],
      "execution_count": 54,
      "outputs": [
        {
          "output_type": "stream",
          "text": [
            "(60000, 28, 28)\n",
            "(10000, 28, 28)\n",
            "(60000,)\n",
            "(10000,)\n",
            "liczba danych treningowych:  60000\n",
            "liczba danych testowych:  10000\n",
            "rozmiar pojedynczego obrazka:  (28, 28)\n"
          ],
          "name": "stdout"
        }
      ]
    },
    {
      "cell_type": "code",
      "metadata": {
        "id": "HPy8D9zA5OqM",
        "colab_type": "code",
        "outputId": "6e0668fd-2c62-49e8-c782-ce3b8ca166e9",
        "colab": {
          "base_uri": "https://localhost:8080/",
          "height": 265
        }
      },
      "source": [
        "import matplotlib.pyplot as plt\n",
        "\n",
        "plt.imshow(x_train[5], cmap='Greys')\n",
        "plt.axis('off')"
      ],
      "execution_count": 55,
      "outputs": [
        {
          "output_type": "execute_result",
          "data": {
            "text/plain": [
              "(-0.5, 27.5, 27.5, -0.5)"
            ]
          },
          "metadata": {
            "tags": []
          },
          "execution_count": 55
        },
        {
          "output_type": "display_data",
          "data": {
            "image/png": "[encoded data removed]",
            "text/plain": [
              "<Figure size 432x288 with 1 Axes>"
            ]
          },
          "metadata": {
            "tags": []
          }
        }
      ]
    },
    {
      "cell_type": "code",
      "metadata": {
        "id": "ri39Fzin6HhG",
        "colab_type": "code",
        "outputId": "8f9c9c6b-3e20-4281-95a5-4fa6468eea3f",
        "colab": {
          "base_uri": "https://localhost:8080/",
          "height": 34
        }
      },
      "source": [
        "print(keras.backend.image_data_format()) #sposób zapisu danych w naszych obrazkach"
      ],
      "execution_count": 56,
      "outputs": [
        {
          "output_type": "stream",
          "text": [
            "channels_last\n"
          ],
          "name": "stdout"
        }
      ]
    },
    {
      "cell_type": "code",
      "metadata": {
        "id": "ACxUFjd36eKw",
        "colab_type": "code",
        "outputId": "580f398b-0437-4e23-a4b9-f9f79fa9c3a8",
        "colab": {
          "base_uri": "https://localhost:8080/",
          "height": 34
        }
      },
      "source": [
        "img_rows, img_cols = 28, 28\n",
        "if keras.backend.image_data_format() == 'channel_first': #przeksztalcamy dane tak aby na 1 miejscu byla liczba próbek (60k), pozniej liczbe kanalow (1) i rozmiar obrazka\n",
        "  x_train = x_train.reshape(x_train.shape[0], 1, img_rows, img_cols)\n",
        "  x_test = x_test.reshape(x_test.shape[0], 1, img_rows, img_cols)\n",
        "  input_shape = (1, img_rows, img_cols)\n",
        "else:\n",
        "  x_train = x_train.reshape(x_train.shape[0], img_rows, img_cols, 1)\n",
        "  x_test = x_test.reshape(x_test.shape[0], img_rows, img_cols, 1)\n",
        "  input_shape = (img_rows, img_cols, 1)\n",
        "\n",
        "print(input_shape)"
      ],
      "execution_count": 57,
      "outputs": [
        {
          "output_type": "stream",
          "text": [
            "(28, 28, 1)\n"
          ],
          "name": "stdout"
        }
      ]
    },
    {
      "cell_type": "code",
      "metadata": {
        "id": "9p26FSFIK2vy",
        "colab_type": "code",
        "colab": {
          "base_uri": "https://localhost:8080/",
          "height": 34
        },
        "outputId": "3ead1d95-8b64-485c-9a6b-b1174a813dbd"
      },
      "source": [
        "y_train[0:10]"
      ],
      "execution_count": 59,
      "outputs": [
        {
          "output_type": "execute_result",
          "data": {
            "text/plain": [
              "array([5, 0, 4, 1, 9, 2, 1, 3, 1, 4], dtype=uint8)"
            ]
          },
          "metadata": {
            "tags": []
          },
          "execution_count": 59
        }
      ]
    },
    {
      "cell_type": "code",
      "metadata": {
        "id": "zIvr_H_j8Pkz",
        "colab_type": "code",
        "outputId": "905c0e4c-e173-4713-fdf8-7e7b84bf31de",
        "colab": {
          "base_uri": "https://localhost:8080/",
          "height": 50
        }
      },
      "source": [
        "x_train = x_train.astype('float32') #przekonwertowanie dancyh na typ float\n",
        "x_test = x_test.astype('float32')\n",
        "\n",
        "x_train /= 255 #wystandaryzowanie danych (przedział 0 - 1)\n",
        "x_test /= 255\n",
        "\n",
        "print(x_train.shape)\n",
        "print(x_test.shape)"
      ],
      "execution_count": 60,
      "outputs": [
        {
          "output_type": "stream",
          "text": [
            "(60000, 28, 28, 1)\n",
            "(10000, 28, 28, 1)\n"
          ],
          "name": "stdout"
        }
      ]
    },
    {
      "cell_type": "code",
      "metadata": {
        "id": "5kjWxBR19LCc",
        "colab_type": "code",
        "outputId": "e3fa9d15-014b-4be1-e35f-b20f58fdc1cd",
        "colab": {
          "base_uri": "https://localhost:8080/",
          "height": 50
        }
      },
      "source": [
        "y_train = keras.utils.to_categorical(y_train, num_classes=10)#przekształcenie labeli na wektory, w których 1 będzie na miejscu odpowiadajacemu cyfrze na obrazie\n",
        "y_test = keras.utils.to_categorical(y_test, num_classes=10)\n",
        "\n",
        "print(y_train.shape)\n",
        "print(y_test.shape)"
      ],
      "execution_count": 61,
      "outputs": [
        {
          "output_type": "stream",
          "text": [
            "(60000, 10)\n",
            "(10000, 10)\n"
          ],
          "name": "stdout"
        }
      ]
    },
    {
      "cell_type": "code",
      "metadata": {
        "id": "G8rXdeuk9k9S",
        "colab_type": "code",
        "outputId": "8067800a-957e-41a3-b9a3-8629fe07dcca",
        "colab": {
          "base_uri": "https://localhost:8080/",
          "height": 185
        }
      },
      "source": [
        "y_train[0:10]"
      ],
      "execution_count": 62,
      "outputs": [
        {
          "output_type": "execute_result",
          "data": {
            "text/plain": [
              "array([[0., 0., 0., 0., 0., 1., 0., 0., 0., 0.],\n",
              "       [1., 0., 0., 0., 0., 0., 0., 0., 0., 0.],\n",
              "       [0., 0., 0., 0., 1., 0., 0., 0., 0., 0.],\n",
              "       [0., 1., 0., 0., 0., 0., 0., 0., 0., 0.],\n",
              "       [0., 0., 0., 0., 0., 0., 0., 0., 0., 1.],\n",
              "       [0., 0., 1., 0., 0., 0., 0., 0., 0., 0.],\n",
              "       [0., 1., 0., 0., 0., 0., 0., 0., 0., 0.],\n",
              "       [0., 0., 0., 1., 0., 0., 0., 0., 0., 0.],\n",
              "       [0., 1., 0., 0., 0., 0., 0., 0., 0., 0.],\n",
              "       [0., 0., 0., 0., 1., 0., 0., 0., 0., 0.]], dtype=float32)"
            ]
          },
          "metadata": {
            "tags": []
          },
          "execution_count": 62
        }
      ]
    },
    {
      "cell_type": "code",
      "metadata": {
        "id": "ZQOtPCfM91vt",
        "colab_type": "code",
        "outputId": "f7226320-7ae2-4d13-9532-858a8089dff7",
        "colab": {
          "base_uri": "https://localhost:8080/",
          "height": 353
        }
      },
      "source": [
        "model = Sequential()\n",
        "#dodawanie warstw w procesie budowy architektury sieci\n",
        "model.add(Conv2D(filters=32, kernel_size=(3, 3), activation='relu',input_shape =(28,28,1))) #folters - liczba filtrow, ktorych nauczy sie sieć, kernel_size - rozmiar filtru; \n",
        "model.add(Conv2D(filters=64, kernel_size=(3, 3), activation='relu')) #kolejna warstwa konwolucji, niech mieli \n",
        "model.add(MaxPooling2D(pool_size=(2, 2))) #maxpooling zmniejszy złożoność problemu; pool_size - rozmiar okna ekstrakcji, którym latamy po obrazkach\n",
        "model.add(Flatten()) #spłaszcza wszystko (macież staje sie jednokolumnowa)\n",
        "model.add(Dense(units=128, activation='relu')) #Dense przyjmuje wartość neuronów\n",
        "model.add(Dense(units=10, activation='softmax')) #softmax wyrzuci prawdopodobieństwa wyliczonych klas\n",
        "\n",
        "model.summary()"
      ],
      "execution_count": 63,
      "outputs": [
        {
          "output_type": "stream",
          "text": [
            "Model: \"sequential_2\"\n",
            "_________________________________________________________________\n",
            "Layer (type)                 Output Shape              Param #   \n",
            "=================================================================\n",
            "conv2d_3 (Conv2D)            (None, 26, 26, 32)        320       \n",
            "_________________________________________________________________\n",
            "conv2d_4 (Conv2D)            (None, 24, 24, 64)        18496     \n",
            "_________________________________________________________________\n",
            "max_pooling2d_2 (MaxPooling2 (None, 12, 12, 64)        0         \n",
            "_________________________________________________________________\n",
            "flatten_2 (Flatten)          (None, 9216)              0         \n",
            "_________________________________________________________________\n",
            "dense_3 (Dense)              (None, 128)               1179776   \n",
            "_________________________________________________________________\n",
            "dense_4 (Dense)              (None, 10)                1290      \n",
            "=================================================================\n",
            "Total params: 1,199,882\n",
            "Trainable params: 1,199,882\n",
            "Non-trainable params: 0\n",
            "_________________________________________________________________\n"
          ],
          "name": "stdout"
        }
      ]
    },
    {
      "cell_type": "code",
      "metadata": {
        "id": "o_-ACM1_Aqdl",
        "colab_type": "code",
        "colab": {}
      },
      "source": [
        "model.compile(optimizer='adadelta', \n",
        "              loss='categorical_crossentropy',\n",
        "              metrics=['accuracy']) #skompilowanie modelu; optimizer - optymalizator, loss - funkcja straty"
      ],
      "execution_count": 0,
      "outputs": []
    },
    {
      "cell_type": "code",
      "metadata": {
        "id": "-dgt8uI7BgnT",
        "colab_type": "code",
        "colab": {
          "base_uri": "https://localhost:8080/",
          "height": 128
        },
        "outputId": "128cc069-165b-4f82-8932-509dbeed9273"
      },
      "source": [
        "his = model.fit(x_train, y_train, batch_size=128 epochs=20, validation_data=(x_test, y_test))"
      ],
      "execution_count": 68,
      "outputs": [
        {
          "output_type": "error",
          "ename": "SyntaxError",
          "evalue": "ignored",
          "traceback": [
            "\u001b[0;36m  File \u001b[0;32m\"<ipython-input-68-497f63b41762>\"\u001b[0;36m, line \u001b[0;32m1\u001b[0m\n\u001b[0;31m    his = model.fit(x_train, y_train, batch_size=128 epochs=20, validation_data=(x_test, y_test))\u001b[0m\n\u001b[0m                                                          ^\u001b[0m\n\u001b[0;31mSyntaxError\u001b[0m\u001b[0;31m:\u001b[0m invalid syntax\n"
          ]
        }
      ]
    },
    {
      "cell_type": "code",
      "metadata": {
        "id": "lsvCt9fLBkRU",
        "colab_type": "code",
        "colab": {}
      },
      "source": [
        ""
      ],
      "execution_count": 0,
      "outputs": []
    }
  ]
}