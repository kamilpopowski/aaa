{
  "nbformat": 4,
  "nbformat_minor": 0,
  "metadata": {
    "colab": {
      "name": "funkcje straty.ipynb",
      "provenance": [],
      "collapsed_sections": [],
      "include_colab_link": true
    },
    "kernelspec": {
      "name": "python3",
      "display_name": "Python 3"
    }
  },
  "cells": [
    {
      "cell_type": "markdown",
      "metadata": {
        "id": "view-in-github",
        "colab_type": "text"
      },
      "source": [
        "<a href=\"https://colab.research.google.com/github/kamilpopowski/aaa/blob/master/funkcje_straty.ipynb\" target=\"_parent\"><img src=\"https://colab.research.google.com/assets/colab-badge.svg\" alt=\"Open In Colab\"/></a>"
      ]
    },
    {
      "cell_type": "markdown",
      "metadata": {
        "id": "EvOSwFQc4W6d",
        "colab_type": "text"
      },
      "source": [
        "### Accurarcy - dokładnośc klasyfikacji\n",
        "\n",
        "### $ accuracy = \\frac{correct predictions}{total predictions} * 100 $"
      ]
    },
    {
      "cell_type": "code",
      "metadata": {
        "id": "9frewTLf4qhW",
        "colab_type": "code",
        "colab": {}
      },
      "source": [
        "import numpy as np\n",
        "\n",
        "y_true = np.array([1, 0, 1, 1, 0, 1])\n",
        "y_pred = np.array([0, 0, 1, 1, 0, 1])\n",
        "\n",
        "\n",
        "\n",
        "def accuracy(y_true, y_pred):\n",
        "  correct = 0\n",
        "  for i in range(len(y_true)):  #interacja po dlugosci tablicy y_true\n",
        "    if y_true[i] == y_pred[i]: #jesli y_true = y_pred zwiekszaj zmienna correct o 1\n",
        "      correct += 1\n",
        "  return correct / len(y_true) *100 # zwróć zmienna correct podzielona przez dl. y_true * 100%"
      ],
      "execution_count": 0,
      "outputs": []
    },
    {
      "cell_type": "code",
      "metadata": {
        "id": "FI2j6kig45RV",
        "colab_type": "code",
        "outputId": "09a001c4-8862-4e70-953c-eab0a597f43a",
        "colab": {
          "base_uri": "https://localhost:8080/",
          "height": 34
        }
      },
      "source": [
        "accuracy(y_true, y_pred)"
      ],
      "execution_count": 0,
      "outputs": [
        {
          "output_type": "execute_result",
          "data": {
            "text/plain": [
              "83.33333333333334"
            ]
          },
          "metadata": {
            "tags": []
          },
          "execution_count": 2
        }
      ]
    },
    {
      "cell_type": "markdown",
      "metadata": {
        "id": "ykaP08P7DzQN",
        "colab_type": "text"
      },
      "source": [
        "###Binarna entropia krzyżowa"
      ]
    },
    {
      "cell_type": "code",
      "metadata": {
        "id": "AERj3DxW4O_q",
        "colab_type": "code",
        "colab": {}
      },
      "source": [
        "def binary_crossentropy(y_true, y_pred):\n",
        "  y_pred = np.clip(y_pred, 0.000001, 1-0.0000001) #clip 1 parametr - wartosci do \"przyciecia\", 2 parametr - wartosc przyjmowana na 1 progu, 3 parametr - to samo tylko, ze z 2 strony(max)\n",
        "  return -y_true * np.log(y_pred) - (1 - y_true) * np.log(1 - y_pred)\n"
      ],
      "execution_count": 0,
      "outputs": []
    },
    {
      "cell_type": "code",
      "metadata": {
        "id": "BP4Lq-iSElzM",
        "colab_type": "code",
        "outputId": "dec741da-07dc-4c03-dc48-a39afc6e72cb",
        "colab": {
          "base_uri": "https://localhost:8080/",
          "height": 50
        }
      },
      "source": [
        "y_true = np.array([1, 0, 1, 1, 0, 1])\n",
        "y_pred = np.array([0, 0, 1, 1, 0, 1])\n",
        "\n",
        "binary_crossentropy(y_true, y_pred)"
      ],
      "execution_count": 0,
      "outputs": [
        {
          "output_type": "execute_result",
          "data": {
            "text/plain": [
              "array([1.38155106e+01, 1.00000050e-06, 1.00000005e-07, 1.00000005e-07,\n",
              "       1.00000050e-06, 1.00000005e-07])"
            ]
          },
          "metadata": {
            "tags": []
          },
          "execution_count": 8
        }
      ]
    },
    {
      "cell_type": "markdown",
      "metadata": {
        "id": "AmHa5ChSJi4I",
        "colab_type": "text"
      },
      "source": [
        "###Kategoryczna entropia krzyżowa "
      ]
    },
    {
      "cell_type": "code",
      "metadata": {
        "id": "b8v2Ma1CJrTe",
        "colab_type": "code",
        "colab": {}
      },
      "source": [
        "def categorical_crossentrophy(y_true, y_pred):\n",
        "  y_pred = np.clip(y_pred, 0.0000001, 1-0.0000001)\n",
        "  return -np.sum(y_true * np.log(y_pred))"
      ],
      "execution_count": 0,
      "outputs": []
    },
    {
      "cell_type": "code",
      "metadata": {
        "id": "2wpwgof3Jipx",
        "colab_type": "code",
        "outputId": "43992185-e2a6-4da4-fb84-267517701103",
        "colab": {
          "base_uri": "https://localhost:8080/",
          "height": 34
        }
      },
      "source": [
        "y_true = np.array([1, 0, 1, 1, 0, 1])\n",
        "y_pred = np.array([0, 0, 1, 1, 0, 1])\n",
        "\n",
        "categorical_crossentrophy(y_true, y_pred)"
      ],
      "execution_count": 0,
      "outputs": [
        {
          "output_type": "execute_result",
          "data": {
            "text/plain": [
              "16.118095950958335"
            ]
          },
          "metadata": {
            "tags": []
          },
          "execution_count": 13
        }
      ]
    }
  ]
}