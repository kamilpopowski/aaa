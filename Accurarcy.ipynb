{
  "nbformat": 4,
  "nbformat_minor": 0,
  "metadata": {
    "colab": {
      "name": "Accurarcy.ipynb",
      "provenance": [],
      "collapsed_sections": [],
      "include_colab_link": true
    },
    "kernelspec": {
      "name": "python3",
      "display_name": "Python 3"
    }
  },
  "cells": [
    {
      "cell_type": "markdown",
      "metadata": {
        "id": "view-in-github",
        "colab_type": "text"
      },
      "source": [
        "<a href=\"https://colab.research.google.com/github/kamilpopowski/aaa/blob/master/Accurarcy.ipynb\" target=\"_parent\"><img src=\"https://colab.research.google.com/assets/colab-badge.svg\" alt=\"Open In Colab\"/></a>"
      ]
    },
    {
      "cell_type": "markdown",
      "metadata": {
        "id": "EvOSwFQc4W6d",
        "colab_type": "text"
      },
      "source": [
        "### Accurarcy - dokładnośc klasyfikacji\n",
        "\n",
        "### $ accuracy = \\frac{correct predictions}{total predictions} * 100 $"
      ]
    },
    {
      "cell_type": "code",
      "metadata": {
        "id": "9frewTLf4qhW",
        "colab_type": "code",
        "colab": {}
      },
      "source": [
        "import numpy as np\n",
        "\n",
        "y_true = np.array([1, 0, 1, 1, 0, 1])\n",
        "y_pred = np.array([0, 0, 1, 1, 0, 1])\n",
        "\n",
        "def accuracy(y_true, y_pred):\n",
        "  correct = 0\n",
        "  for i in range(len(y_true)):  #interacja po dlugosci tablicy y_true\n",
        "    if y_true[i] == y_pred[i]: #jesli y_true = y_pred zwiekszaj zmienna correct o 1\n",
        "      correct += 1\n",
        "  return correct / len(y_true) *100 # zwróć zmienna correct podzielona przez dl. y_true * 100%"
      ],
      "execution_count": 0,
      "outputs": []
    },
    {
      "cell_type": "code",
      "metadata": {
        "id": "FI2j6kig45RV",
        "colab_type": "code",
        "colab": {
          "base_uri": "https://localhost:8080/",
          "height": 34
        },
        "outputId": "09a001c4-8862-4e70-953c-eab0a597f43a"
      },
      "source": [
        "accuracy(y_true, y_pred)"
      ],
      "execution_count": 2,
      "outputs": [
        {
          "output_type": "execute_result",
          "data": {
            "text/plain": [
              "83.33333333333334"
            ]
          },
          "metadata": {
            "tags": []
          },
          "execution_count": 2
        }
      ]
    },
    {
      "cell_type": "code",
      "metadata": {
        "id": "AERj3DxW4O_q",
        "colab_type": "code",
        "colab": {}
      },
      "source": [
        ""
      ],
      "execution_count": 0,
      "outputs": []
    }
  ]
}