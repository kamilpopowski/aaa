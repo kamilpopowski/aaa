{
  "nbformat": 4,
  "nbformat_minor": 0,
  "metadata": {
    "colab": {
      "name": "cos tam przy nauce.ipynb",
      "provenance": [],
      "authorship_tag": "ABX9TyMHYXyUmG9hBMn21WAeNz9n",
      "include_colab_link": true
    },
    "kernelspec": {
      "name": "python3",
      "display_name": "Python 3"
    },
    "accelerator": "GPU"
  },
  "cells": [
    {
      "cell_type": "markdown",
      "metadata": {
        "id": "view-in-github",
        "colab_type": "text"
      },
      "source": [
        "<a href=\"https://colab.research.google.com/github/kamilpopowski/aaa/blob/master/cos_tam_przy_nauce.ipynb\" target=\"_parent\"><img src=\"https://colab.research.google.com/assets/colab-badge.svg\" alt=\"Open In Colab\"/></a>"
      ]
    },
    {
      "cell_type": "code",
      "metadata": {
        "id": "sF89zi1Mrq7t",
        "colab_type": "code",
        "colab": {}
      },
      "source": [
        "def calc():\n",
        "  X = input('Give first number: ')\n",
        "  Y = input('Give second number: ')\n",
        "  S = input('Enter a mathematical operation: ')\n",
        "  while True:\n",
        "    try:\n",
        "      X = int(X)\n",
        "      Y = int(Y)\n",
        "    except:\n",
        "      print('implemented values are not a numbers!')\n",
        "      break\n",
        "    if X >= -1000 and X <= 1000 and Y >= -1000 and Y <= 1000:\n",
        "      if S == '+':\n",
        "        return X+Y\n",
        "      elif S == '-':\n",
        "        return X-Y\n",
        "      elif S == '*':\n",
        "        return X*Y\n",
        "      elif S == '/':\n",
        "        if Y == 0:\n",
        "          print('operation are not possible')\n",
        "          break\n",
        "        else:\n",
        "          return X/Y\n",
        "      elif S != '+' and S != '-' and S != '*' and S != '/':\n",
        "        print('Error')\n",
        "        break\n",
        "    else:\n",
        "      print('the number is not in the range')\n",
        "      break"
      ],
      "execution_count": 0,
      "outputs": []
    },
    {
      "cell_type": "code",
      "metadata": {
        "id": "MkS0KenXrxzZ",
        "colab_type": "code",
        "colab": {
          "base_uri": "https://localhost:8080/",
          "height": 84
        },
        "outputId": "e7ce16a2-9213-4919-8148-8c59fae177ef"
      },
      "source": [
        "calc()"
      ],
      "execution_count": 3,
      "outputs": [
        {
          "output_type": "stream",
          "text": [
            "Give first number: 5\n",
            "Give second number: 8\n",
            "Enter a mathematical operation: 9\n",
            "Error\n"
          ],
          "name": "stdout"
        }
      ]
    },
    {
      "cell_type": "code",
      "metadata": {
        "id": "uTH3ZP8Kry_h",
        "colab_type": "code",
        "colab": {}
      },
      "source": [
        ""
      ],
      "execution_count": 0,
      "outputs": []
    }
  ]
}